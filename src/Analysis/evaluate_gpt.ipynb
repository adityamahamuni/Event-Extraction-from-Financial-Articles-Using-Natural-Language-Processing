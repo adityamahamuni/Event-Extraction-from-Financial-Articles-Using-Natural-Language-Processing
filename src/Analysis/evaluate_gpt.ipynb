{
 "cells": [
  {
   "cell_type": "markdown",
   "metadata": {},
   "source": []
  },
  {
   "cell_type": "code",
   "execution_count": 7,
   "metadata": {},
   "outputs": [],
   "source": [
    "import json\n",
    "import os\n",
    "\n",
    "import logging\n",
    "from enum import Enum\n",
    "\n",
    "from sklearn.metrics import precision_recall_fscore_support\n",
    "# Configure logging\n",
    "logging.basicConfig(level=logging.INFO,\n",
    "                    format='%(asctime)s - %(levelname)s - %(message)s')"
   ]
  },
  {
   "cell_type": "code",
   "execution_count": 6,
   "metadata": {},
   "outputs": [],
   "source": [
    "class EventType(Enum):\n",
    "    A = \"Acquisition (A)\"\n",
    "    CT = \"Clinical Trial (CT)\"\n",
    "    RD = \"Regular Dividend (RD)\"\n",
    "    DC = \"Dividend Cut (DC)\"\n",
    "    DI = \"Dividend Increase (DI)\"\n",
    "    GI = \"Guidance Increase (GI)\"\n",
    "    NC = \"New Contract (NC)\"\n",
    "    RSS = \"Reverse Stock Split (RSS)\"\n",
    "    SD = \"Special Dividend (SD)\"\n",
    "    SR = \"Stock Repurchase (SR)\"\n",
    "    SS = \"Stock Split (SS)\"\n",
    "    O = \"Other/None (O)\""
   ]
  },
  {
   "cell_type": "code",
   "execution_count": 2,
   "metadata": {},
   "outputs": [
    {
     "name": "stdout",
     "output_type": "stream",
     "text": [
      "/dcs/large/u5579267/EventExtraction/EDT_dataset/Event_detection/gpt_extracted_events.json\n"
     ]
    }
   ],
   "source": [
    "gpt_results_path = os.path.join(os.getcwd(), \"EDT_dataset\", \"Event_detection\", \"gpt_extracted_events.json\")\n",
    "print(gpt_results_path)"
   ]
  },
  {
   "cell_type": "code",
   "execution_count": 3,
   "metadata": {},
   "outputs": [
    {
     "name": "stdout",
     "output_type": "stream",
     "text": [
      "{'sentence': 'Windtree Therapeutics Announces Reverse Stock Split WARRINGTON , Pa. , April 28 , 2020 / / Windtree Therapeutics , Inc . ( OTCQB: WINT ) , a biotechnology and medical device company focused on developing drug product candidates and medical device technologies to address acute cardiovascular and pulmonary diseases , today announced a 1-for-3 reverse stock split of its issued and outstanding common stock . The Company\\'s common stock will begin trading on a split-adjusted basis at the opening of the OTCQB Market on Wednesday , April 29 , 2020 under the symbol \"WINTD\" . After 20 trading days , the symbol will revert to WINT . Effective with the reverse split , a new CUSIP number of 97382D 303 has been assigned to the Company\\'s common stock . The number of shares of common stock authorized under the Company\\'s Amended and Restated Certificate of Incorporation is unchanged at 120 million shares . The Company is pursuing a strategy intended to result in the listing of its common stock on The Nasdaq Capital Market ( \"Nasdaq\" ) . The Company implemented the reverse stock split to increase the bid price of its common stock on the OTCQB market and potentially assure compliance with Nasdaq\\'s initial listing requirement for minimum bid price . Before any listing of the common stock on Nasdaq could occur , Nasdaq will need to approve the Company\\'s application for listing . There can be no assurance that the Company will satisfy other applicable requirements for listing its common stock on Nasdaq or that the Company\\'s application to up-list its common stock will be approved . On June 20 , 2019 , a majority of the Company\\'s stockholders approved the reverse stock split by a written consent . The written consent granted the board of directors the authority to implement and determine the exact split ratio , which was set by a committee of the board of directors at 1 for 3 on April 8 , 2020 . An amendment to the Company\\'s Amended and Restated Certificate of Incorporation to implement the reverse split stock was filed on April 28 , 2020 . No fractional shares will be issued as a result of the reverse stock split . Stockholders who would otherwise be entitled to a fractional share will receive a prorated cash payment , without interest , based on the closing sales price on the OTCQB Market of the Company\\'s common stock on the business day immediately preceding the effective date of the reverse stock split . The Company\\'s transfer agent , Continental Stock Transfer & Trust Company , which is also acting as the exchange agent for the reverse split , will send instructions to stockholders of record who hold stock certificates regarding the exchange of their old certificates for new certificates , should they wish to do so . Stockholders who hold their shares in brokerage accounts or \"street name\" are not required to take any action to effect the exchange of their shares . About Windtree Therapeutics Windtree Therapeutics , Inc . is a clinical-stage', 'extracted_events': {'event_type': 'Reverse Stock Split', 'company': 'Windtree Therapeutics'}, 'actual_events': ['I-RSS']}\n"
     ]
    }
   ],
   "source": [
    "with open(gpt_results_path, \"r\") as file:\n",
    "    results = json.load(file)\n",
    "\n",
    "print(results[0])"
   ]
  },
  {
   "cell_type": "code",
   "execution_count": 15,
   "metadata": {},
   "outputs": [],
   "source": [
    "def evaluate_events(results):\n",
    "    logging.info(\"Evaluating extracted events\")\n",
    "\n",
    "    y_true = []\n",
    "    y_pred = []\n",
    "\n",
    "    for result in results:\n",
    "        actual_events = result[\"actual_events\"]\n",
    "        extracted_event = result[\"extracted_events\"]\n",
    "\n",
    "        if not actual_events:\n",
    "            actual_events = [EventType.O.value]\n",
    "\n",
    "        if type(extracted_event) == list:\n",
    "            extracted_event = extracted_event[0]\n",
    "        \n",
    "        for actual, extract in zip(actual_events, extracted_event.values()):\n",
    "            actual_event_enum = next(\n",
    "                (e for e in EventType if e.value == actual), EventType.O)\n",
    "            y_true.append(actual_event_enum.value)\n",
    "\n",
    "            extracted_event_enum = next(\n",
    "                (e for e in EventType if e.value == extracted_event[\"event_type\"]), EventType.O)\n",
    "\n",
    "            y_pred.append(extracted_event_enum.value)\n",
    "\n",
    "    # Calculate Exact Match (EM)\n",
    "    exact_matches = sum(1 for yt, yp in zip(y_true, y_pred) if yt == yp)\n",
    "    em_score = exact_matches / len(y_true)\n",
    "\n",
    "    # Calculate F1 score\n",
    "    precision, recall, f1, _ = precision_recall_fscore_support(\n",
    "        y_true, y_pred, average='weighted')\n",
    "\n",
    "    logging.info(\n",
    "        f\"Evaluation metrics - Exact Match (EM): {em_score}, F1 Score: {f1}\")\n",
    "    logging.info(\"=\" * 50)\n",
    "    return {\"exact_match\": em_score, \"f1\": f1}"
   ]
  },
  {
   "cell_type": "code",
   "execution_count": 16,
   "metadata": {},
   "outputs": [
    {
     "name": "stderr",
     "output_type": "stream",
     "text": [
      "2024-07-08 18:23:59,928 - INFO - Evaluating extracted events\n",
      "2024-07-08 18:23:59,934 - INFO - Evaluation metrics - Exact Match (EM): 1.0, F1 Score: 1.0\n",
      "2024-07-08 18:23:59,934 - INFO - ==================================================\n"
     ]
    },
    {
     "name": "stdout",
     "output_type": "stream",
     "text": [
      "{'exact_match': 1.0, 'f1': 1.0}\n"
     ]
    }
   ],
   "source": [
    "evaluation_metrics = evaluate_events(results)\n",
    "\n",
    "print(evaluation_metrics)"
   ]
  }
 ],
 "metadata": {
  "kernelspec": {
   "display_name": "Python 3",
   "language": "python",
   "name": "python3"
  },
  "language_info": {
   "codemirror_mode": {
    "name": "ipython",
    "version": 3
   },
   "file_extension": ".py",
   "mimetype": "text/x-python",
   "name": "python",
   "nbconvert_exporter": "python",
   "pygments_lexer": "ipython3",
   "version": "3.11.7"
  }
 },
 "nbformat": 4,
 "nbformat_minor": 2
}
