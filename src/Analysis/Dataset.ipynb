{
 "cells": [
  {
   "cell_type": "code",
   "execution_count": 2,
   "metadata": {},
   "outputs": [],
   "source": [
    "import os\n",
    "import json\n",
    "import logging"
   ]
  },
  {
   "cell_type": "code",
   "execution_count": 3,
   "metadata": {},
   "outputs": [
    {
     "name": "stdout",
     "output_type": "stream",
     "text": [
      "/dcs/large/u5579267/EventExtraction/src/Analysis/EDT_dataset/Event_detection/train.txt\n"
     ]
    }
   ],
   "source": [
    "edt_dataset_path = os.path.join(os.getcwd(), 'EDT_dataset', 'Event_detection', 'train.txt')\n",
    "print(edt_dataset_path)"
   ]
  },
  {
   "cell_type": "markdown",
   "metadata": {},
   "source": [
    "## Convert txt file to json"
   ]
  },
  {
   "cell_type": "code",
   "execution_count": 5,
   "metadata": {},
   "outputs": [
    {
     "name": "stdout",
     "output_type": "stream",
     "text": [
      "Done!\n",
      "Output saved to: /Users/adityamahamuni/Work/Warwick/Modules/Dissertation/Event_Extraction_for_Financial_Documents/EDT_dataset/Event_detection/train.json\n",
      "{'sentence': ['JTI report warns of a \\'Gathering Storm\\' in the black market English English Intelligence shows criminals are ready for post-Covid boom GENEVA , Sept . 11 , 2020 / / JTI ( Japan Tobacco International ) has published a report , independently verified by Intrinsic Insight Ltd. , entitled \\'The Gathering Storm\\' , on how the illegal tobacco trade are operating during the Covid-19 global pandemic and preparing to reap the rewards in the economic aftermath that will follow . Law enforcement agencies around the world have welcomed the report , which is based on 63 field studies , conducted across 50 countries including Russia , Canada , Malaysia , and the Philippines where tobacco smugglers currently have a strong presence . JTI intelligence found that the global public health crisis and financial downturn has created the conditions for a \\'perfect storm\\' where organized criminal groups will further exploit public demand for cheap goods , and capitalize on dwindling buying power in the impending global recession , particularly in countries with high tax regimes . The report has provided JTI with a global picture of four emerging trends , consistent with Euromonitor and Europol intelligence: 1 . Evidence shows that criminal groups are biding their time in readiness for an anticipated boom in illegal tobacco sales; 2 . After initial disruption to the illegal supply chain in Western European markets , organizedcriminals quickly exploited the inconsistent approach to travel and lockdownrulesand found alternative routes from production to distribution , leading to significant seizures of illegal factories or their components in countries such as the Czech Republic , Greece , Ireland , Belgium , and Spain; 3 . Changed law enforcement priorities and border restrictions have been mixed in limiting supply and the availability of illegal tobacco: whilst governments and authorities in Far East Asia were quicker to impose restrictions , those in the West failed to act with such precision; 4 . Technology has been increasingly deployed throughout the pandemic to enable sales of illegal tobacco to continue where strict lockdowns were put in place by governments throughout Eastern Europe , the Middle East , Africa and Asia Pacific , where WhatsApp and Facebook have provided quick and easy methods of communication between the consumer and criminals . Furthermore , the International Chamber of Commerce predicts that global counterfeit trade will reach $4 trillion by 2022 , primarily fueled by e-commerce[1] . According to the World Bank , the global trade in illegal tobacco is already worth an estimated $40-50 billion each year to the criminal groups who produce , manufacture , smuggle , distribute and sell tobacco products on which there is no tax duty paid . The loss of revenue to law-abiding retailers is also significantly felt , as is the impact on consumers who are lured into buying sub-standard products . \"To some consumers illegal tobacco is a victimless crime , which is why we need to inform them not only of the hidden dangers they are consuming , but the wider social consequences of buying from criminal groups'], 'events': ['O']}\n",
      "\n",
      "{'sentence': ['Harmonic Announces IBC 2020 Edition of Live Connection Virtual Showcase SAN JOSE , Calif. , Sept . 1 , 2020 / / Harmonic ( NASDAQ: HLIT ) today announced that it will host the IBC 2020 Edition of its signature digital event , Live Connection , for the global video streaming and broadcast community . The virtual showcase will include a series of thought-provoking webinars hosted by industry-leading experts , a virtual showroom featuring the latest innovations and essential insights on video streaming and delivery , and one-on-one meetings with Harmonic team members . \"Harmonic Live Connection IBC 2020 Edition reunites our diverse global community of streaming platform companies , service providers , broadcasters and content owners on a virtual stage,\" said Shahar Bar , senior vice president , video products and corporate development at Harmonic . \"Our SaaS platforms and video appliances are continuously pushing forward the envelope of innovation for video streaming , broadcast delivery and service continuity . We are excited to share our recent advances in personalized advertising , channel origination in the cloud , quality of experience as well as rapid scaling for live streaming of sporting events.\" The webinar series will focus on emerging streaming and cloud technologies and applications . Attendees will benefit from engaging content , deep insights into current industry trends and cutting-edge technical expertise related to advanced video delivery innovations , including enhancements for live sports streaming , advances to satellite and cloud distribution , and optimizing OTT delivery with analytics . A virtual showroom , opening on Sept . 10 , will offer access to a range of never-before-seen videos and interactive demos on recent developments to Harmonic\\'s VOS 360 Live Streaming Platform , VOS360 Channel Origination & Distribution Platform , VOS Cloud-Native Software and XOS Advanced Media Processors . Attendees can also set up one-on-one meetings with Harmonic team members to discuss customized solutions tuned to their unique applications . To learn more about Live Connection IBC 2020 Edition and register for the digital event , please visit https://live.harmonicinc.com/video-streaming/ibc-2020-edition . Further information about Harmonic and the company\\'s solutions is available at www.harmonicinc.com . About HarmonicHarmonic ( NASDAQ: HLIT ) , the worldwide leader in virtualized cable access and video delivery solutions , enables media companies and service providers to deliver ultra-high-quality video streaming and broadcast services to consumers globally . The company revolutionized cable access networking via the industry\\'s first virtualized cable access solution , enabling cable operators to more flexibly deploy gigabit internet service to consumers\\' homes and mobile devices . Whether simplifying OTT video delivery via innovative cloud and software platforms , or powering the delivery of gigabit internet cable services , Harmonic is changing the way media companies and service providers monetize live and on-demand content on every screen . More information is available at www.harmonicinc.com . This press release contains forward-looking statements within the meaning of Section 27A of the Securities Act of 1933 and Section 21E of the Securities Exchange Act of 1934 . Statements concerning Harmonic\\'s business and the anticipated capabilities , advantages ,'], 'events': ['O']}\n",
      "\n",
      "{'sentence': ['AF Group Again Named To \"Best Places to Work in Insurance\" LANSING , Mich. , Sept . 2 , 2020 / / AF Group has been named to Business Insurance magazine\\'s Best Places to Work in Insurance program , which recognizes employers for their outstanding performance in establishing workplaces where employees can thrive , enjoy their work and help their companies grow . For 11 straight years , Business Insurance has recognized AF Group and its brands as one of the best employers in the insurance industry . \"We\\'re so proud and honored to have been recognized by Business Insurance once again this year,\" said Lisa Corless , president and CEO of AF Group . \"For more than a decade , this honor has been earned by our teammates because of their dedication , integrity and effort . We have an exceptional workplace something we are grateful for now more than ever . A huge thanks to our team for their commitment to sharing best-in-class service with agents , policyholders and injured workers and for the People First culture they help to sustain each and every day.\" The Best Places to Work in Insurance program is a joint effort of Business Insurance and Best Companies Group . Its two-part assessment process recognizes companies that have created high quality workplaces in which employees can thrive and enjoy doing so . One part , responsible for 75 percent of a company\\'s score , involved a confidential employee engagement and satisfaction survey , which was used to evaluate employees\\' workplace experience and the company\\'s culture . The second part consisted of an employee questionnaire , which collected information about each company\\'s benefit programs , policies and practices . About AF GroupAF Group ( Lansing , Mich. ) and its subsidiaries are a premier provider of innovative insurance solutions . Insurance policies may be issued by any of the following companies within AF Group: Accident Fund Insurance Company of America , Accident Fund National Insurance Company , Accident Fund General Insurance Company , United Wisconsin Insurance Company , Third Coast Insurance Company or CompWest Insurance Company . Contact: Bob Lapinski Tel: 517-331-4890 312-443-9819 [email protected] AFGroup.com SOURCE AF Group Related Links http://www.afgroup.com/'], 'events': ['O']}\n",
      "\n"
     ]
    }
   ],
   "source": [
    "import json\n",
    "\n",
    "with open(edt_dataset_path, \"r\") as file:\n",
    "    annotated_text = file.read()\n",
    "\n",
    "# Split the dataset into articles\n",
    "articles = annotated_text.strip().split(\"\\n\\n\")\n",
    "\n",
    "# Function to process each article\n",
    "def process_article(article):\n",
    "    tokens = article.strip().split(\"\\n\")\n",
    "    tokens = [token.split() for token in tokens if token]\n",
    "\n",
    "    sentences = []\n",
    "    current_sentence = []\n",
    "    event_tags = set()\n",
    "\n",
    "    for token in tokens:\n",
    "        word, tag = token\n",
    "        current_sentence.append(word)\n",
    "        if tag != \"O\":\n",
    "            event_tags.add(tag)\n",
    "        elif tag ==  \"O\" and not event_tags:\n",
    "            event_tags.add(\"O\")\n",
    "        if word in [\".\", \"!\", \"?\"]:\n",
    "            sentences.append(\" \".join(current_sentence))\n",
    "            current_sentence = []\n",
    "\n",
    "    # Add the last sentence if not added\n",
    "    if current_sentence:\n",
    "        sentences.append(\" \".join(current_sentence))\n",
    "\n",
    "    # Combine all sentences into one\n",
    "    combined_sentence = \" \".join(sentences)\n",
    "\n",
    "    return {\n",
    "        \"sentence\": [combined_sentence],\n",
    "        \"events\": list(event_tags) if event_tags else []\n",
    "    }\n",
    "\n",
    "\n",
    "# Process each article and store the results\n",
    "results = []\n",
    "for article in articles:\n",
    "    results.append(process_article(article))\n",
    "\n",
    "\n",
    "# Save the JSON object to a file\n",
    "output_path = os.path.join(os.getcwd(), \"EDT_dataset\", \"Event_detection\", \"train.json\")\n",
    "\n",
    "with open(output_path, \"w\") as file:\n",
    "    json.dump(results, file, indent=4)\n",
    "\n",
    "\n",
    "print(\"Done!\")\n",
    "print(\"Output saved to:\", output_path)\n"
   ]
  },
  {
   "cell_type": "code",
   "execution_count": 3,
   "metadata": {},
   "outputs": [
    {
     "name": "stdout",
     "output_type": "stream",
     "text": [
      "{'sentence': ['JTI report warns of a \\'Gathering Storm\\' in the black market English English Intelligence shows criminals are ready for post-Covid boom GENEVA , Sept . 11 , 2020 / / JTI ( Japan Tobacco International ) has published a report , independently verified by Intrinsic Insight Ltd. , entitled \\'The Gathering Storm\\' , on how the illegal tobacco trade are operating during the Covid-19 global pandemic and preparing to reap the rewards in the economic aftermath that will follow . Law enforcement agencies around the world have welcomed the report , which is based on 63 field studies , conducted across 50 countries including Russia , Canada , Malaysia , and the Philippines where tobacco smugglers currently have a strong presence . JTI intelligence found that the global public health crisis and financial downturn has created the conditions for a \\'perfect storm\\' where organized criminal groups will further exploit public demand for cheap goods , and capitalize on dwindling buying power in the impending global recession , particularly in countries with high tax regimes . The report has provided JTI with a global picture of four emerging trends , consistent with Euromonitor and Europol intelligence: 1 . Evidence shows that criminal groups are biding their time in readiness for an anticipated boom in illegal tobacco sales; 2 . After initial disruption to the illegal supply chain in Western European markets , organizedcriminals quickly exploited the inconsistent approach to travel and lockdownrulesand found alternative routes from production to distribution , leading to significant seizures of illegal factories or their components in countries such as the Czech Republic , Greece , Ireland , Belgium , and Spain; 3 . Changed law enforcement priorities and border restrictions have been mixed in limiting supply and the availability of illegal tobacco: whilst governments and authorities in Far East Asia were quicker to impose restrictions , those in the West failed to act with such precision; 4 . Technology has been increasingly deployed throughout the pandemic to enable sales of illegal tobacco to continue where strict lockdowns were put in place by governments throughout Eastern Europe , the Middle East , Africa and Asia Pacific , where WhatsApp and Facebook have provided quick and easy methods of communication between the consumer and criminals . Furthermore , the International Chamber of Commerce predicts that global counterfeit trade will reach $4 trillion by 2022 , primarily fueled by e-commerce[1] . According to the World Bank , the global trade in illegal tobacco is already worth an estimated $40-50 billion each year to the criminal groups who produce , manufacture , smuggle , distribute and sell tobacco products on which there is no tax duty paid . The loss of revenue to law-abiding retailers is also significantly felt , as is the impact on consumers who are lured into buying sub-standard products . \"To some consumers illegal tobacco is a victimless crime , which is why we need to inform them not only of the hidden dangers they are consuming , but the wider social consequences of buying from criminal groups'], 'events': ['O']}\n",
      "\n",
      "{'sentence': ['Windtree Therapeutics Announces Reverse Stock Split WARRINGTON , Pa. , April 28 , 2020 / / Windtree Therapeutics , Inc . ( OTCQB: WINT ) , a biotechnology and medical device company focused on developing drug product candidates and medical device technologies to address acute cardiovascular and pulmonary diseases , today announced a 1-for-3 reverse stock split of its issued and outstanding common stock . The Company\\'s common stock will begin trading on a split-adjusted basis at the opening of the OTCQB Market on Wednesday , April 29 , 2020 under the symbol \"WINTD\" . After 20 trading days , the symbol will revert to WINT . Effective with the reverse split , a new CUSIP number of 97382D 303 has been assigned to the Company\\'s common stock . The number of shares of common stock authorized under the Company\\'s Amended and Restated Certificate of Incorporation is unchanged at 120 million shares . The Company is pursuing a strategy intended to result in the listing of its common stock on The Nasdaq Capital Market ( \"Nasdaq\" ) . The Company implemented the reverse stock split to increase the bid price of its common stock on the OTCQB market and potentially assure compliance with Nasdaq\\'s initial listing requirement for minimum bid price . Before any listing of the common stock on Nasdaq could occur , Nasdaq will need to approve the Company\\'s application for listing . There can be no assurance that the Company will satisfy other applicable requirements for listing its common stock on Nasdaq or that the Company\\'s application to up-list its common stock will be approved . On June 20 , 2019 , a majority of the Company\\'s stockholders approved the reverse stock split by a written consent . The written consent granted the board of directors the authority to implement and determine the exact split ratio , which was set by a committee of the board of directors at 1 for 3 on April 8 , 2020 . An amendment to the Company\\'s Amended and Restated Certificate of Incorporation to implement the reverse split stock was filed on April 28 , 2020 . No fractional shares will be issued as a result of the reverse stock split . Stockholders who would otherwise be entitled to a fractional share will receive a prorated cash payment , without interest , based on the closing sales price on the OTCQB Market of the Company\\'s common stock on the business day immediately preceding the effective date of the reverse stock split . The Company\\'s transfer agent , Continental Stock Transfer & Trust Company , which is also acting as the exchange agent for the reverse split , will send instructions to stockholders of record who hold stock certificates regarding the exchange of their old certificates for new certificates , should they wish to do so . Stockholders who hold their shares in brokerage accounts or \"street name\" are not required to take any action to effect the exchange of their shares . About Windtree Therapeutics Windtree Therapeutics , Inc . is a clinical-stage'], 'events': ['I-RSS']}\n",
      "\n",
      "{'sentence': ['TOP Ships Announces Reverse Stock Split ATHENS , Greece , Aug . 07 , 2020 ( ) TOP Ships Inc . ( NASDAQ: TOPS ) ( the Company ) , announced today that it has determined to effect a 1-for-25 reverse stock split of the Company s issued common shares . The Company s shareholders approved the reverse stock split and granted the Board the authority to determine the exact split ratio and when to proceed with the reverse stock split at the Company s Annual Meeting of Shareholders held on May 29 , 2020 . The reverse stock split will take effect , and the Company s common stock will begin trading on a split-adjusted basis on the NASDAQ Capital Market , as of the opening of trading on Monday , August 10 , 2020 under the existing ticker symbol TOPS . The new CUSIP number for the Company s common stock will be Y8897Y 180 . When the reverse stock split becomes effective , every 25 shares of the Company s issued and outstanding common stock will be automatically combined into one issued and outstanding share of common stock without any change in the par value per share or the total number of authorized shares . This will reduce the number of outstanding shares of the Company s common stock from approximately 995.8 million shares to approximately 39.8 million shares . No fractional shares will be issued in connection with the reverse split of the issued and outstanding common stock . Shareholders shall be paid cash-in-lieu of a fractional shares that occur as a result of the reverse stock split . Shareholders will receive instructions from the Company s exchange agent , American Stock Transfer & Trust Company , LLC , as to how to exchange existing share certificates for new certificates representing the post-reverse split shares . Additional information about the reverse stock split can be found in the Company s proxy statement furnished to the Securities and Exchange Commission on April 10 , 2020 , a copy of which is available at www.sec.gov . About TOP Ships Inc . TOPS is an international owner and operator of modern , fuel efficient ECO tanker vessels currently focusing on the transportation of crude oil and petroleum products . Cautionary Note Regarding Forward-Looking Statements Matters discussed in this press release may constitute forward-looking statements within the meaning of the U.S . federal securities laws . The Private Securities Litigation Reform Act of 1995 provides safe harbor protections for forward-looking statements in order to encourage companies to provide prospective information about their business . Forward-looking statements include statements concerning plans , objectives , goals , strategies , future events or performance , and underlying assumptions and other statements , which are other than statements of historical facts . The Company desires to take advantage of the safe harbor provisions of the Private Securities Litigation Reform Act of 1995 and is including this cautionary statement in connection with this safe harbor legislation . The words believe , anticipate , intends , estimate ,'], 'events': ['I-RSS']}\n",
      "\n"
     ]
    }
   ],
   "source": [
    "data_path = os.path.join(os.getcwd(), \"EDT_dataset\", \"Event_detection\", \"train.json\")\n",
    "\n",
    "# Load the JSON object from the file\n",
    "with open(data_path, \"r\") as file:\n",
    "    data = json.load(file)\n",
    "\n",
    "# Print the first few entries\n",
    "for i in range(3):\n",
    "    print(data[-i])\n",
    "    print()"
   ]
  },
  {
   "cell_type": "markdown",
   "metadata": {},
   "source": [
    "### Run Schema Prompts"
   ]
  },
  {
   "cell_type": "code",
   "execution_count": 4,
   "metadata": {},
   "outputs": [],
   "source": [
    "def get_schema_prompt(sentence):\n",
    "        schema_prompt = \"\"\"\n",
    "        Task: Event Extraction\n",
    "        Instructions:\n",
    "        1. Identify any financial or corporate events within the sentence.\n",
    "        2. Classify each identified event using the following types:\n",
    "           - Acquisition (A)\n",
    "           - Clinical Trial (CT)\n",
    "           - Regular Dividend (RD)\n",
    "           - Dividend Cut (DC)\n",
    "           - Dividend Increase (DI)\n",
    "           - Guidance Increase (GI)\n",
    "           - New Contract (NC)\n",
    "           - Reverse Stock Split (RSS)\n",
    "           - Special Dividend (SD)\n",
    "           - Stock Repurchase (SR)\n",
    "           - Stock Split (SS)\n",
    "           - Other/None (O)\n",
    "        3. Extract the primary corporate entity (company name) directly associated with each event. Use contextual clues and focus on entities performing financial actions. Prioritize the company name.\n",
    "        4. Output a JSON array of dictionaries, each containing:\n",
    "            - \"event_type\": [Use the exact event classification code from the provided list, e.g., \"RD\" for Regular Dividend]\n",
    "            - \"company\": [Identify the primary company performing the financial action, often the publicly traded parent company]\n",
    "        5. Ensure the output is valid JSON. Double-check for proper formatting, brackets, commas, and quotation marks.\n",
    "        Extract the event from the following sentence: {sentence}\n",
    "        \"\"\"\n",
    "        logging.debug(f\"Generated schema prompt for sentence: {sentence}\")\n",
    "        return schema_prompt.format(sentence=sentence)"
   ]
  },
  {
   "cell_type": "code",
   "execution_count": 5,
   "metadata": {},
   "outputs": [
    {
     "name": "stderr",
     "output_type": "stream",
     "text": [
      "/dcs/pg23/u5579267/.local/lib/python3.11/site-packages/tqdm/auto.py:21: TqdmWarning: IProgress not found. Please update jupyter and ipywidgets. See https://ipywidgets.readthedocs.io/en/stable/user_install.html\n",
      "  from .autonotebook import tqdm as notebook_tqdm\n",
      "/dcs/pg23/u5579267/.local/lib/python3.11/site-packages/transformers/utils/generic.py:260: UserWarning: torch.utils._pytree._register_pytree_node is deprecated. Please use torch.utils._pytree.register_pytree_node instead.\n",
      "  torch.utils._pytree._register_pytree_node(\n"
     ]
    },
    {
     "ename": "ImportError",
     "evalue": "\nT5Tokenizer requires the SentencePiece library but it was not found in your environment. Checkout the instructions on the\ninstallation page of its repo: https://github.com/google/sentencepiece#installation and follow the ones\nthat match your environment. Please note that you may need to restart your runtime after installation.\n",
     "output_type": "error",
     "traceback": [
      "\u001b[0;31m---------------------------------------------------------------------------\u001b[0m",
      "\u001b[0;31mImportError\u001b[0m                               Traceback (most recent call last)",
      "Cell \u001b[0;32mIn[5], line 6\u001b[0m\n\u001b[1;32m      4\u001b[0m \u001b[38;5;66;03m# Load Flan-T5 model and tokenizer\u001b[39;00m\n\u001b[1;32m      5\u001b[0m model_name \u001b[38;5;241m=\u001b[39m \u001b[38;5;124m\"\u001b[39m\u001b[38;5;124mgoogle/flan-t5-base\u001b[39m\u001b[38;5;124m\"\u001b[39m\n\u001b[0;32m----> 6\u001b[0m tokenizer \u001b[38;5;241m=\u001b[39m \u001b[43mT5Tokenizer\u001b[49m\u001b[38;5;241;43m.\u001b[39;49m\u001b[43mfrom_pretrained\u001b[49m(model_name)\n\u001b[1;32m      7\u001b[0m model \u001b[38;5;241m=\u001b[39m T5ForConditionalGeneration\u001b[38;5;241m.\u001b[39mfrom_pretrained(model_name)\n",
      "File \u001b[0;32m~/.local/lib/python3.11/site-packages/transformers/utils/import_utils.py:1070\u001b[0m, in \u001b[0;36mDummyObject.__getattribute__\u001b[0;34m(cls, key)\u001b[0m\n\u001b[1;32m   1068\u001b[0m \u001b[38;5;28;01mif\u001b[39;00m key\u001b[38;5;241m.\u001b[39mstartswith(\u001b[38;5;124m\"\u001b[39m\u001b[38;5;124m_\u001b[39m\u001b[38;5;124m\"\u001b[39m) \u001b[38;5;129;01mand\u001b[39;00m key \u001b[38;5;241m!=\u001b[39m \u001b[38;5;124m\"\u001b[39m\u001b[38;5;124m_from_config\u001b[39m\u001b[38;5;124m\"\u001b[39m:\n\u001b[1;32m   1069\u001b[0m     \u001b[38;5;28;01mreturn\u001b[39;00m \u001b[38;5;28msuper\u001b[39m()\u001b[38;5;241m.\u001b[39m\u001b[38;5;21m__getattribute__\u001b[39m(key)\n\u001b[0;32m-> 1070\u001b[0m \u001b[43mrequires_backends\u001b[49m\u001b[43m(\u001b[49m\u001b[38;5;28;43mcls\u001b[39;49m\u001b[43m,\u001b[49m\u001b[43m \u001b[49m\u001b[38;5;28;43mcls\u001b[39;49m\u001b[38;5;241;43m.\u001b[39;49m\u001b[43m_backends\u001b[49m\u001b[43m)\u001b[49m\n",
      "File \u001b[0;32m~/.local/lib/python3.11/site-packages/transformers/utils/import_utils.py:1058\u001b[0m, in \u001b[0;36mrequires_backends\u001b[0;34m(obj, backends)\u001b[0m\n\u001b[1;32m   1056\u001b[0m failed \u001b[38;5;241m=\u001b[39m [msg\u001b[38;5;241m.\u001b[39mformat(name) \u001b[38;5;28;01mfor\u001b[39;00m available, msg \u001b[38;5;129;01min\u001b[39;00m checks \u001b[38;5;28;01mif\u001b[39;00m \u001b[38;5;129;01mnot\u001b[39;00m available()]\n\u001b[1;32m   1057\u001b[0m \u001b[38;5;28;01mif\u001b[39;00m failed:\n\u001b[0;32m-> 1058\u001b[0m     \u001b[38;5;28;01mraise\u001b[39;00m \u001b[38;5;167;01mImportError\u001b[39;00m(\u001b[38;5;124m\"\u001b[39m\u001b[38;5;124m\"\u001b[39m\u001b[38;5;241m.\u001b[39mjoin(failed))\n",
      "\u001b[0;31mImportError\u001b[0m: \nT5Tokenizer requires the SentencePiece library but it was not found in your environment. Checkout the instructions on the\ninstallation page of its repo: https://github.com/google/sentencepiece#installation and follow the ones\nthat match your environment. Please note that you may need to restart your runtime after installation.\n"
     ]
    }
   ],
   "source": [
    "import torch\n",
    "from transformers import T5Tokenizer, T5ForConditionalGeneration\n",
    "\n",
    "# Load Flan-T5 model and tokenizer\n",
    "model_name = \"google/flan-t5-base\"\n",
    "tokenizer = T5Tokenizer.from_pretrained(model_name)\n",
    "model = T5ForConditionalGeneration.from_pretrained(model_name)"
   ]
  },
  {
   "cell_type": "code",
   "execution_count": null,
   "metadata": {},
   "outputs": [],
   "source": [
    "def get_model_response(prompt, max_length=512):\n",
    "        logging.debug(f\"Generating model response for prompt: {prompt}\")\n",
    "        inputs = tokenizer(prompt, return_tensors=\"pt\", max_length=1024, truncation=True).to(device)\n",
    "        outputs = model.generate(**inputs, max_length=max_length)\n",
    "        response = tokenizer.decode(outputs[0], skip_special_tokens=True)\n",
    "        logging.debug(f\"Model response: {response}\")\n",
    "        return response"
   ]
  },
  {
   "cell_type": "code",
   "execution_count": null,
   "metadata": {},
   "outputs": [],
   "source": []
  },
  {
   "cell_type": "markdown",
   "metadata": {},
   "source": [
    "### Dev/Train dataset"
   ]
  },
  {
   "cell_type": "code",
   "execution_count": 6,
   "metadata": {},
   "outputs": [
    {
     "name": "stdout",
     "output_type": "stream",
     "text": [
      "Done!\n",
      "Output saved to: /dcs/large/u5579267/EventExtraction/EDT_dataset/Event_detection/dev.json\n"
     ]
    }
   ],
   "source": [
    "import json\n",
    "\n",
    "edt_dev_path = os.path.join(\"/dcs/large/u5579267/EventExtraction\", \"EDT_dataset\", \"Event_detection\", \"dev.txt\")\n",
    "\n",
    "with open(edt_dev_path, \"r\") as file:\n",
    "    annotated_text = file.read()\n",
    "\n",
    "# Split the dataset into articles\n",
    "articles = annotated_text.strip().split(\"\\n\\n\")\n",
    "\n",
    "# Function to process each article\n",
    "def process_article(article):\n",
    "    tokens = article.strip().split(\"\\n\")\n",
    "    tokens = [token.split() for token in tokens if token]\n",
    "\n",
    "    sentences = []\n",
    "    current_sentence = []\n",
    "    event_tags = set()\n",
    "\n",
    "    for token in tokens:\n",
    "        word, tag = token\n",
    "        current_sentence.append(word)\n",
    "        if tag != \"O\":\n",
    "            event_tags.add(tag)\n",
    "        elif tag ==  \"O\" and not event_tags:\n",
    "            event_tags.add(\"O\")\n",
    "        if word in [\".\", \"!\", \"?\"]:\n",
    "            sentences.append(\" \".join(current_sentence))\n",
    "            current_sentence = []\n",
    "\n",
    "    # Add the last sentence if not added\n",
    "    if current_sentence:\n",
    "        sentences.append(\" \".join(current_sentence))\n",
    "\n",
    "    # Combine all sentences into one\n",
    "    combined_sentence = \" \".join(sentences)\n",
    "\n",
    "    return {\n",
    "        \"sentence\": [combined_sentence],\n",
    "        \"events\": list(event_tags) if event_tags else []\n",
    "    }\n",
    "\n",
    "\n",
    "# Process each article and store the results\n",
    "results = []\n",
    "for article in articles:\n",
    "    results.append(process_article(article))\n",
    "\n",
    "\n",
    "# Save the JSON object to a file\n",
    "output_path = os.path.join(\"/dcs/large/u5579267/EventExtraction\", \"EDT_dataset\", \"Event_detection\", \"dev.json\")\n",
    "with open(output_path, \"w\") as file:\n",
    "    json.dump(results, file, indent=4)\n",
    "\n",
    "print(\"Done!\")\n",
    "print(\"Output saved to:\", output_path)\n"
   ]
  },
  {
   "cell_type": "code",
   "execution_count": null,
   "metadata": {},
   "outputs": [],
   "source": []
  }
 ],
 "metadata": {
  "kernelspec": {
   "display_name": "Python 3",
   "language": "python",
   "name": "python3"
  },
  "language_info": {
   "codemirror_mode": {
    "name": "ipython",
    "version": 3
   },
   "file_extension": ".py",
   "mimetype": "text/x-python",
   "name": "python",
   "nbconvert_exporter": "python",
   "pygments_lexer": "ipython3",
   "version": "3.11.4"
  }
 },
 "nbformat": 4,
 "nbformat_minor": 2
}
